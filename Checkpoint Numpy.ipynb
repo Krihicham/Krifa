{
 "cells": [
  {
   "cell_type": "code",
   "execution_count": null,
   "id": "8327d01a",
   "metadata": {},
   "outputs": [],
   "source": [
    "import numpy as np\n",
    "\n",
    "def calculate_grades(num_students, num_subjects):\n",
    "    # Create an empty array to store the marks of each student\n",
    "    marks = np.zeros((num_students, num_subjects), dtype=np.int32)\n",
    "\n",
    "    # Get the marks of each student in each subject from the user\n",
    "    for i in range(num_students):\n",
    "        print(f\"Enter marks for student {i+1}:\")\n",
    "        for j in range(num_subjects):\n",
    "            marks[i, j] = int(input(f\"Subject {j+1}: \"))\n",
    "\n",
    "    # Calculate total marks for each student\n",
    "    total_marks = np.sum(marks, axis=1)\n",
    "\n",
    "    # Calculate percentage for each student\n",
    "    percentage = (total_marks / (num_subjects * 100)) * 100\n",
    "\n",
    "    # Assign grades based on the percentage\n",
    "    grades = np.empty(num_students, dtype='U2')\n",
    "    grades[np.where(percentage >= 90)] = 'A+'\n",
    "    grades[np.where((percentage >= 80) & (percentage < 90))] = 'A'\n",
    "    grades[np.where((percentage >= 70) & (percentage < 80))] = 'B+'\n",
    "    grades[np.where((percentage >= 60) & (percentage < 70))] = 'B'\n",
    "    grades[np.where((percentage >= 50) & (percentage < 60))] = 'C'\n",
    "    grades[np.where(percentage < 50)] = 'F'\n",
    "\n",
    "    # Display the result in a tabular format\n",
    "    print(\"Student\\tTotal Marks\\tPercentage\\tGrade\")\n",
    "    for i in range(num_students):\n",
    "        print(f\"{i+1}\\t{total_marks[i]}\\t\\t{percentage[i]:.2f}%\\t\\t{grades[i]}\")\n",
    "\n",
    "# Get input from the user\n",
    "num_students = int(input(\"Enter the number of students: \"))\n",
    "num_subjects = int(input(\"Enter the number of subjects: \"))\n",
    "\n",
    "# Call the function to calculate grades\n",
    "calculate_grades(num_students, num_subjects)"
   ]
  }
 ],
 "metadata": {
  "kernelspec": {
   "display_name": "Python 3 (ipykernel)",
   "language": "python",
   "name": "python3"
  },
  "language_info": {
   "codemirror_mode": {
    "name": "ipython",
    "version": 3
   },
   "file_extension": ".py",
   "mimetype": "text/x-python",
   "name": "python",
   "nbconvert_exporter": "python",
   "pygments_lexer": "ipython3",
   "version": "3.10.9"
  }
 },
 "nbformat": 4,
 "nbformat_minor": 5
}
