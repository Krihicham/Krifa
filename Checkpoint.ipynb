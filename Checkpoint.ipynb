{
 "cells": [
  {
   "cell_type": "code",
   "execution_count": 4,
   "id": "b6bfa79d",
   "metadata": {},
   "outputs": [
    {
     "name": "stdout",
     "output_type": "stream",
     "text": [
      "Welcome to python\n"
     ]
    }
   ],
   "source": [
    "my_string = \"Welcome to python\"\n",
    "print(my_string)"
   ]
  },
  {
   "cell_type": "code",
   "execution_count": 7,
   "id": "97983c0d",
   "metadata": {},
   "outputs": [
    {
     "name": "stdout",
     "output_type": "stream",
     "text": [
      "my_string[0] =  W\n",
      "my_string[-2] =  n\n"
     ]
    }
   ],
   "source": [
    "print(\"my_string[0] = \", my_string[0])  #first character                my_string[0] =  W\n",
    "print(\"my_string[-2] = \", my_string[-1]) #last character               my_string[-1] =  n"
   ]
  },
  {
   "cell_type": "code",
   "execution_count": 10,
   "id": "edf504df",
   "metadata": {},
   "outputs": [
    {
     "data": {
      "text/plain": [
       "'p'"
      ]
     },
     "execution_count": 10,
     "metadata": {},
     "output_type": "execute_result"
    }
   ],
   "source": [
    "my_string[11]  #index must be in range"
   ]
  },
  {
   "cell_type": "code",
   "execution_count": 12,
   "id": "aa95b43b",
   "metadata": {},
   "outputs": [
    {
     "name": "stdout",
     "output_type": "stream",
     "text": [
      "my_string[1:5] =  elco\n",
      "my_string[5:-2] =  me to pyth\n"
     ]
    }
   ],
   "source": [
    "print(\"my_string[1:5] = \", my_string[1:5])  #slicing 2nd to 5th character                 my_string[1:5] =  elco\n",
    "print(\"my_string[5:-2] = \", my_string[5:-2])   #slicing 6th to 2nd last character            my_string[5:-2] =  me to pyth"
   ]
  },
  {
   "cell_type": "code",
   "execution_count": 13,
   "id": "a56c191c",
   "metadata": {},
   "outputs": [
    {
     "name": "stdout",
     "output_type": "stream",
     "text": [
      "Hello\n",
      "World\n",
      "str1 + str2 =  Hello World\n"
     ]
    }
   ],
   "source": [
    "str1 = input()\n",
    "str2 =input()\n",
    "print(\"str1 + str2 = \", str1+\" \"+ str2)  "
   ]
  },
  {
   "cell_type": "code",
   "execution_count": 21,
   "id": "de790a91",
   "metadata": {},
   "outputs": [
    {
     "name": "stdout",
     "output_type": "stream",
     "text": [
      "17\n"
     ]
    }
   ],
   "source": [
    "my_string = \"welcome to python\"\n",
    "print(len(my_string))   "
   ]
  },
  {
   "cell_type": "code",
   "execution_count": null,
   "id": "7e27a7a6",
   "metadata": {},
   "outputs": [],
   "source": []
  },
  {
   "cell_type": "code",
   "execution_count": 27,
   "id": "cba52f55",
   "metadata": {},
   "outputs": [],
   "source": [
    "# change the function parameters if you need \n",
    "def test(str1, str2):\n",
    "  # write your code below this line \n",
    " \n",
    "  \n",
    "  return str1[0:3] + str2[0:3] # write here the returned value of the function  \n",
    "  # Write your code above this line\n",
    "    \n",
    "    \n",
    "    "
   ]
  },
  {
   "cell_type": "code",
   "execution_count": 30,
   "id": "515a8fd5",
   "metadata": {},
   "outputs": [
    {
     "name": "stdout",
     "output_type": "stream",
     "text": [
      "CodWor\n",
      "pyttoo\n"
     ]
    }
   ],
   "source": [
    "print(test(\"Coding\",\"World\"))\n",
    "print(test(\"python\",\"tool\"))"
   ]
  },
  {
   "cell_type": "code",
   "execution_count": 21,
   "id": "7172e9bf",
   "metadata": {},
   "outputs": [
    {
     "name": "stdout",
     "output_type": "stream",
     "text": [
      "9 is a positive number.\n"
     ]
    }
   ],
   "source": [
    "num = 9\n",
    "if num > 0:\n",
    "    print(num, \"is a positive number.\")\n",
    "elif num == 0:\n",
    "    print(num, \" is a nautural numbre\")\n",
    "\n",
    "else : \n",
    "    print(num, \"is a negative number.\")\n",
    "    \n",
    "\n"
   ]
  },
  {
   "cell_type": "code",
   "execution_count": 51,
   "id": "a8e87eb4",
   "metadata": {},
   "outputs": [
    {
     "name": "stdout",
     "output_type": "stream",
     "text": [
      "6\n",
      "5\n",
      "3\n",
      "8\n",
      "4\n",
      "2\n",
      "5\n",
      "4\n",
      "11\n",
      "the for ends here\n"
     ]
    }
   ],
   "source": [
    "numbers = [6, 5, 3, 8, 4, 2, 5, 4, 11]\n",
    "for val in numbers: # iterate over the list\n",
    "\tprint(val)\n",
    "print(\"the for ends here\")"
   ]
  },
  {
   "cell_type": "code",
   "execution_count": 52,
   "id": "a6735c82",
   "metadata": {},
   "outputs": [
    {
     "name": "stdout",
     "output_type": "stream",
     "text": [
      "0\n",
      "1\n",
      "2\n",
      "3\n",
      "4\n"
     ]
    }
   ],
   "source": [
    "for i in range(5):\n",
    "    print(i)"
   ]
  },
  {
   "cell_type": "code",
   "execution_count": 9,
   "id": "1392f386",
   "metadata": {},
   "outputs": [
    {
     "name": "stdout",
     "output_type": "stream",
     "text": [
      "The sum is 1\n",
      "2\n",
      "The sum is 3\n",
      "3\n",
      "The sum is 6\n",
      "4\n",
      "The sum is 10\n",
      "5\n",
      "The sum is 15\n",
      "6\n",
      "The total is 15\n"
     ]
    }
   ],
   "source": [
    "i=1\n",
    "sum=0\n",
    "while i <= 5:\n",
    "    sum = sum + i\n",
    "    i = i+1    # update counter\n",
    " \n",
    "    print(\"The sum is\", sum) # print the sum\n",
    "    print(i)\n",
    "print(\"The total is\", sum) # print the "
   ]
  },
  {
   "cell_type": "code",
   "execution_count": 5,
   "id": "aed9570b",
   "metadata": {},
   "outputs": [
    {
     "name": "stdout",
     "output_type": "stream",
     "text": [
      "Welcome to the Guess the Number game!\n",
      "I'm thinking of a number between 1 and 100. Can you guess what it is?\n",
      "Enter your guess:50\n",
      "Your guess is too low. Guess again.\n",
      "Enter your guess:60\n",
      "Your guess is too low. Guess again.\n",
      "Enter your guess:70\n",
      "Your guess is too low. Guess again.\n",
      "Enter your guess:90\n",
      "Congratulations! You guessed the number correctly!\n"
     ]
    }
   ],
   "source": [
    "print(\"Welcome to the Guess the Number game!\")\n",
    "print(\"I'm thinking of a number between 1 and 100. Can you guess what it is?\")\n",
    "x=int(input(\"Enter your guess:\"))\n",
    "import random\n",
    "y= random.randint(1, 100)\n",
    "i=1\n",
    "while i<=7:\n",
    "    i=i+1\n",
    "    if y<x: \n",
    "        print(\"Your guess is too high. Guess again.\")\n",
    "        X=int(input(\"Enter your guess:\"))\n",
    "    elif y>x:\n",
    "        print(\"Your guess is too low. Guess again.\")\n",
    "        x=int(input(\"Enter your guess:\"))\n",
    "    else :\n",
    "        print(\"Congratulations! You guessed the number correctly!\")\n",
    "        break\n",
    "\n"
   ]
  },
  {
   "cell_type": "code",
   "execution_count": null,
   "id": "e74388f9",
   "metadata": {},
   "outputs": [],
   "source": []
  },
  {
   "cell_type": "code",
   "execution_count": null,
   "id": "35de42cd",
   "metadata": {},
   "outputs": [],
   "source": []
  }
 ],
 "metadata": {
  "kernelspec": {
   "display_name": "Python 3 (ipykernel)",
   "language": "python",
   "name": "python3"
  },
  "language_info": {
   "codemirror_mode": {
    "name": "ipython",
    "version": 3
   },
   "file_extension": ".py",
   "mimetype": "text/x-python",
   "name": "python",
   "nbconvert_exporter": "python",
   "pygments_lexer": "ipython3",
   "version": "3.10.9"
  }
 },
 "nbformat": 4,
 "nbformat_minor": 5
}
