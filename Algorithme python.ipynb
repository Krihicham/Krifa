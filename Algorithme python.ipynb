{
 "cells": [
  {
   "cell_type": "markdown",
   "id": "9c49ec10",
   "metadata": {},
   "source": [
    "### recherche binaire\n"
   ]
  },
  {
   "cell_type": "code",
   "execution_count": 2,
   "id": "6dbf7ae3",
   "metadata": {},
   "outputs": [
    {
     "name": "stdout",
     "output_type": "stream",
     "text": [
      "False\n",
      "True\n"
     ]
    }
   ],
   "source": [
    "def recherche_binaire(liste, element):\n",
    "    debut = 0\n",
    "    fin = len(liste) - 1\n",
    "\n",
    "    while debut <= fin:\n",
    "        milieu = (debut + fin) // 2\n",
    "        valeur_milieu = liste[milieu]\n",
    "\n",
    "        if valeur_milieu == element:\n",
    "            return True\n",
    "        elif valeur_milieu < element:\n",
    "            debut = milieu + 1\n",
    "        else:\n",
    "            fin = milieu - 1\n",
    "\n",
    "    return False\n",
    "\n",
    "# Données de test\n",
    "print(recherche_binaire([1, 2, 3, 5, 8], 6))  # Doit afficher False\n",
    "print(recherche_binaire([1, 2, 3, 5, 8], 5))  # Doit afficher True"
   ]
  },
  {
   "cell_type": "markdown",
   "id": "661f13cf",
   "metadata": {},
   "source": [
    "### 'a' à la puissance 'b'"
   ]
  },
  {
   "cell_type": "code",
   "execution_count": 3,
   "id": "d646935c",
   "metadata": {},
   "outputs": [
    {
     "name": "stdout",
     "output_type": "stream",
     "text": [
      "81\n"
     ]
    }
   ],
   "source": [
    "def puissance(a, b):\n",
    "    if b == 0:\n",
    "        return 1\n",
    "    elif b == 1:\n",
    "        return a\n",
    "    else:\n",
    "        return a * puissance(a, b - 1)\n",
    "\n",
    "# Données de test\n",
    "print(puissance(3, 4))  # Doit afficher 81\n"
   ]
  },
  {
   "cell_type": "markdown",
   "id": "7371fb45",
   "metadata": {},
   "source": [
    "### tri à bulles"
   ]
  },
  {
   "cell_type": "code",
   "execution_count": 4,
   "id": "3ba0e1be",
   "metadata": {},
   "outputs": [
    {
     "name": "stdout",
     "output_type": "stream",
     "text": [
      "[13, 22, 29, 37, 46, 49, 52, 56, 71]\n"
     ]
    }
   ],
   "source": [
    "def tri_bulles(liste):\n",
    "    n = len(liste)\n",
    "\n",
    "    for i in range(n):\n",
    "        echanges = False\n",
    "\n",
    "        for j in range(0, n-i-1):\n",
    "            if liste[j] > liste[j+1]:\n",
    "                liste[j], liste[j+1] = liste[j+1], liste[j]\n",
    "                echanges = True\n",
    "\n",
    "        # Si aucune permutation n'a été faite dans une itération, la liste est triée\n",
    "        if not echanges:\n",
    "            break\n",
    "\n",
    "# Données de test\n",
    "donnees = [29, 13, 22, 37, 52, 49, 46, 71, 56]\n",
    "tri_bulles(donnees)\n",
    "print(donnees)  # Doit afficher [13, 22, 29, 37, 46, 49, 52, 56, 71]\n"
   ]
  },
  {
   "cell_type": "markdown",
   "id": "eef62616",
   "metadata": {},
   "source": [
    "### tri par fusion"
   ]
  },
  {
   "cell_type": "code",
   "execution_count": 5,
   "id": "1be8a46d",
   "metadata": {},
   "outputs": [
    {
     "name": "stdout",
     "output_type": "stream",
     "text": [
      "[13, 22, 29, 37, 46, 49, 52, 56, 71]\n"
     ]
    }
   ],
   "source": [
    "def tri_bulles(liste):\n",
    "    n = len(liste)\n",
    "\n",
    "    for i in range(n):\n",
    "        echanges = False\n",
    "\n",
    "        for j in range(0, n-i-1):\n",
    "            if liste[j] > liste[j+1]:\n",
    "                liste[j], liste[j+1] = liste[j+1], liste[j]\n",
    "                echanges = True\n",
    "\n",
    "        # Si aucune permutation n'a été faite dans une itération, la liste est triée\n",
    "        if not echanges:\n",
    "            break\n",
    "\n",
    "# Données de test\n",
    "donnees = [29, 13, 22, 37, 52, 49, 46, 71, 56]\n",
    "tri_bulles(donnees)\n",
    "print(donnees)  # Doit afficher [13, 22, 29, 37, 46, 49, 52, 56, 71]\n"
   ]
  },
  {
   "cell_type": "markdown",
   "id": "576e79d0",
   "metadata": {},
   "source": [
    "### tri rapide"
   ]
  },
  {
   "cell_type": "code",
   "execution_count": 6,
   "id": "dc19a7be",
   "metadata": {},
   "outputs": [
    {
     "name": "stdout",
     "output_type": "stream",
     "text": [
      "[13, 22, 29, 37, 46, 49, 52, 56, 71]\n"
     ]
    }
   ],
   "source": [
    "def tri_rapide(liste):\n",
    "    if len(liste) <= 1:\n",
    "        return liste\n",
    "\n",
    "    pivot = liste[len(liste) // 2]\n",
    "    gauche = [x for x in liste if x < pivot]\n",
    "    milieu = [x for x in liste if x == pivot]\n",
    "    droite = [x for x in liste if x > pivot]\n",
    "\n",
    "    return tri_rapide(gauche) + milieu + tri_rapide(droite)\n",
    "\n",
    "# Données de test\n",
    "donnees = [29, 13, 22, 37, 52, 49, 46, 71, 56]\n",
    "resultat = tri_rapide(donnees)\n",
    "print(resultat)  # Doit afficher [13, 22, 29, 37, 46, 49, 52, 56, 71]\n"
   ]
  },
  {
   "cell_type": "code",
   "execution_count": null,
   "id": "4e073053",
   "metadata": {},
   "outputs": [],
   "source": []
  }
 ],
 "metadata": {
  "kernelspec": {
   "display_name": "Python 3 (ipykernel)",
   "language": "python",
   "name": "python3"
  },
  "language_info": {
   "codemirror_mode": {
    "name": "ipython",
    "version": 3
   },
   "file_extension": ".py",
   "mimetype": "text/x-python",
   "name": "python",
   "nbconvert_exporter": "python",
   "pygments_lexer": "ipython3",
   "version": "3.10.9"
  }
 },
 "nbformat": 4,
 "nbformat_minor": 5
}
