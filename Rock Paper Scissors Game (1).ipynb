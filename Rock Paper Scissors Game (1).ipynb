{
 "cells": [
  {
   "cell_type": "code",
   "execution_count": 2,
   "id": "9110a8e0",
   "metadata": {},
   "outputs": [
    {
     "name": "stdout",
     "output_type": "stream",
     "text": [
      "Welcome to Rock Paper Scissors!\n",
      "Enter your choice (Rock, Paper, or Scissors): paper\n",
      "You chose: Paper\n",
      "Computer chose: Paper\n",
      "It's a tie!\n",
      "Do you want to play again? (yes/no): yes\n",
      "Enter your choice (Rock, Paper, or Scissors): Scissors\n",
      "You chose: Scissors\n",
      "Computer chose: Scissors\n",
      "It's a tie!\n",
      "Do you want to play again? (yes/no): Rock\n",
      "Thank you for playing. Goodbye!\n"
     ]
    }
   ],
   "source": [
    "import random\n",
    "\n",
    "def get_player_choice():\n",
    "    while True:\n",
    "        player_choice = input(\"Enter your choice (Rock, Paper, or Scissors): \").strip().capitalize()\n",
    "        if player_choice in [\"Rock\", \"Paper\", \"Scissors\"]:\n",
    "            return player_choice\n",
    "        print(\"Invalid choice. Please choose Rock, Paper, or Scissors.\")\n",
    "\n",
    "def get_computer_choice():\n",
    "    choices = [\"Rock\", \"Paper\", \"Scissors\"]\n",
    "    return random.choice(choices)\n",
    "\n",
    "def determine_winner(player_choice, computer_choice):\n",
    "    if player_choice == computer_choice:\n",
    "        return \"It's a tie!\"\n",
    "    elif (\n",
    "        (player_choice == \"Rock\" and computer_choice == \"Scissors\") or\n",
    "        (player_choice == \"Paper\" and computer_choice == \"Rock\") or\n",
    "        (player_choice == \"Scissors\" and computer_choice == \"Paper\")\n",
    "    ):\n",
    "        return \"Congratulations! You win!\"\n",
    "    else:\n",
    "        return \"Sorry, you lose. Better luck next time!\"\n",
    "\n",
    "def play_game():\n",
    "    print(\"Welcome to Rock Paper Scissors!\")\n",
    "    while True:\n",
    "        player_choice = get_player_choice()\n",
    "        computer_choice = get_computer_choice()\n",
    "        print(f\"You chose: {player_choice}\")\n",
    "        print(f\"Computer chose: {computer_choice}\")\n",
    "        print(determine_winner(player_choice, computer_choice))\n",
    "        play_again = input(\"Do you want to play again? (yes/no): \").strip().lower()\n",
    "        if play_again != \"yes\":\n",
    "            print(\"Thank you for playing. Goodbye!\")\n",
    "            break\n",
    "\n",
    "if __name__ == \"__main__\":\n",
    "    play_game()\n"
   ]
  },
  {
   "cell_type": "code",
   "execution_count": null,
   "id": "df216f97",
   "metadata": {},
   "outputs": [],
   "source": []
  },
  {
   "cell_type": "code",
   "execution_count": null,
   "id": "df182238",
   "metadata": {},
   "outputs": [],
   "source": []
  }
 ],
 "metadata": {
  "kernelspec": {
   "display_name": "Python 3 (ipykernel)",
   "language": "python",
   "name": "python3"
  },
  "language_info": {
   "codemirror_mode": {
    "name": "ipython",
    "version": 3
   },
   "file_extension": ".py",
   "mimetype": "text/x-python",
   "name": "python",
   "nbconvert_exporter": "python",
   "pygments_lexer": "ipython3",
   "version": "3.10.9"
  }
 },
 "nbformat": 4,
 "nbformat_minor": 5
}
