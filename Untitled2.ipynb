{
 "cells": [
  {
   "cell_type": "markdown",
   "id": "c57b2f09",
   "metadata": {},
   "source": [
    "# Exercice 1\n"
   ]
  },
  {
   "cell_type": "code",
   "execution_count": 13,
   "id": "9c8f0614",
   "metadata": {},
   "outputs": [
    {
     "name": "stdout",
     "output_type": "stream",
     "text": [
      "entrer la longeur de la liste:3\n",
      "entrez la 1 ère valeur:\n",
      "1\n",
      "entrez la  2 ème valeur:\n",
      "2\n",
      "entrez la  3 ème valeur:\n",
      "3\n",
      "6\n"
     ]
    }
   ],
   "source": [
    "a=int(input(\"entrer la longeur de la liste:\"))\n",
    "liste=[]\n",
    "print(\"entrez la 1 ère valeur:\")\n",
    "b=int(input())\n",
    "liste.append(b)\n",
    "for i in range(1,a,1):\n",
    "    print(\"entrez la \",i+1,\"ème valeur:\")\n",
    "    b=int(input())\n",
    "    liste.append(b)\n",
    "p=liste[0]\n",
    "for i in range(1,a):\n",
    "    p=p*liste[i]\n",
    "print(p)"
   ]
  },
  {
   "cell_type": "markdown",
   "id": "83b1b4dc",
   "metadata": {},
   "source": [
    "# Exercice 2"
   ]
  },
  {
   "cell_type": "code",
   "execution_count": 2,
   "id": "26d20f20",
   "metadata": {},
   "outputs": [
    {
     "name": "stdout",
     "output_type": "stream",
     "text": [
      "entrer la longeur de la liste:3\n",
      "entrer la longeur de la tuple:5\n",
      "entrez la 1 ère valeur:\n",
      "5\n",
      "entrez la  2 ème valeur:\n",
      "14\n",
      "entrez la  3 ème valeur:\n",
      "19\n",
      "entrez la  4 ème valeur:\n",
      "55\n",
      "entrez la  5 ème valeur:\n",
      "6\n",
      "entrer la longeur de la tuple:3\n",
      "entrez la 1 ère valeur:\n",
      "14\n",
      "entrez la  2 ème valeur:\n",
      "19\n",
      "entrez la  3 ème valeur:\n",
      "1\n",
      "entrer la longeur de la tuple:2\n",
      "entrez la 1 ère valeur:\n",
      "1\n",
      "entrez la  2 ème valeur:\n",
      "2\n"
     ]
    },
    {
     "data": {
      "text/plain": [
       "[('14', '19', '1'), ('1', '2'), ('5', '14', '19', '55', '6')]"
      ]
     },
     "execution_count": 2,
     "metadata": {},
     "output_type": "execute_result"
    }
   ],
   "source": [
    "def element_2(elem):\n",
    "    l=len(elem)\n",
    "    return elem[l-1]\n",
    "a=int(input(\"entrer la longeur de la liste:\"))\n",
    "liste=[]\n",
    "longeur=[]\n",
    "for i in range(a):\n",
    "    c=int(input(\"entrer la longeur de la tuple:\"))\n",
    "    t=()\n",
    "    print(\"entrez la 1 ère valeur:\")\n",
    "    b=input()\n",
    "    t=(b,)\n",
    "    for i in range(1,c,1):\n",
    "        print(\"entrez la \",i+1,\"ème valeur:\")\n",
    "        b=input()\n",
    "        t=t+(b,)\n",
    "    liste.append(t)\n",
    "liste.sort(key=element_2)\n",
    "liste"
   ]
  },
  {
   "cell_type": "markdown",
   "id": "58b5d9e1",
   "metadata": {},
   "source": [
    "Exercice 3"
   ]
  },
  {
   "cell_type": "code",
   "execution_count": 5,
   "id": "ee833150",
   "metadata": {},
   "outputs": [
    {
     "name": "stdout",
     "output_type": "stream",
     "text": [
      "{'a': 400, 'b': 400, 'c': 300, 'd': 400}\n"
     ]
    }
   ],
   "source": [
    "D1={'a': 100, 'b': 200, 'c':300}\n",
    "D2={'a': 300, 'b': 200, 'd':400}\n",
    "DX={}\n",
    "for key,valeu in D1.items():\n",
    "    DX[key]=valeu\n",
    "for key,valeu in D2.items():\n",
    "    if key in DX:\n",
    "        DX[key]=DX[key]+valeu\n",
    "    else:\n",
    "        DX[key]=valeu\n",
    "        \n",
    "print(DX)\n",
    "    \n",
    "\n",
    "    "
   ]
  },
  {
   "cell_type": "code",
   "execution_count": 3,
   "id": "4d9af884",
   "metadata": {},
   "outputs": [
    {
     "data": {
      "text/plain": [
       "{'a': 100, 'b': 200, 'c': 300}"
      ]
     },
     "execution_count": 3,
     "metadata": {},
     "output_type": "execute_result"
    }
   ],
   "source": [
    "D1={'a': 100, 'b': 200, 'c':300}\n",
    "D2={'a': 300, 'b': 200, 'd':400}\n",
    "DX={}\n",
    "for key,valeu in D1.items():\n",
    "    DX[key]=valeu\n",
    "DX"
   ]
  },
  {
   "cell_type": "markdown",
   "id": "7900e0c1",
   "metadata": {},
   "source": [
    " Exercice 4"
   ]
  },
  {
   "cell_type": "code",
   "execution_count": 7,
   "id": "cd018a1c",
   "metadata": {},
   "outputs": [
    {
     "name": "stdout",
     "output_type": "stream",
     "text": [
      "Entrez un nombre entier : 7\n",
      "{1: 1, 2: 4, 3: 9, 4: 16, 5: 25, 6: 36, 7: 49}\n"
     ]
    }
   ],
   "source": [
    "n = int(input(\"Entrez un nombre entier : \"))\n",
    "\n",
    "# Générer le dictionnaire avec les carrés des nombres\n",
    "dictionary = {}\n",
    "for i in range(1, n+1):\n",
    "    dictionary[i] = i * i\n",
    "\n",
    "# Afficher le dictionnaire\n",
    "print(dictionary)"
   ]
  },
  {
   "cell_type": "markdown",
   "id": "4eaff860",
   "metadata": {},
   "source": [
    "Exercice 5"
   ]
  },
  {
   "cell_type": "code",
   "execution_count": 10,
   "id": "44d9ad15",
   "metadata": {},
   "outputs": [
    {
     "name": "stdout",
     "output_type": "stream",
     "text": [
      "[('item3', '24.5'), ('item2', '15.10'), ('item1', '12.20')]\n"
     ]
    }
   ],
   "source": [
    "list= [('item1', '12.20'), ('item2', '15.10'), ('item3', '24.5')]\n",
    "list.sort(key=lambda x: x[1],reverse=True)\n",
    "print(list)"
   ]
  },
  {
   "cell_type": "markdown",
   "id": "1d50201c",
   "metadata": {},
   "source": [
    "Exercice 6"
   ]
  },
  {
   "cell_type": "code",
   "execution_count": 11,
   "id": "dc66a84a",
   "metadata": {},
   "outputs": [
    {
     "name": "stdout",
     "output_type": "stream",
     "text": [
      "{0, 1, 2, 3, 4}\n"
     ]
    }
   ],
   "source": [
    "set = {0, 1, 2, 3, 4}\n",
    "\n",
    "print(set)"
   ]
  },
  {
   "cell_type": "code",
   "execution_count": 18,
   "id": "f37ae74b",
   "metadata": {},
   "outputs": [
    {
     "name": "stdout",
     "output_type": "stream",
     "text": [
      "0\n",
      "1\n",
      "2\n",
      "3\n",
      "4\n"
     ]
    }
   ],
   "source": [
    "for i in set:\n",
    "   print(i)"
   ]
  },
  {
   "cell_type": "code",
   "execution_count": 19,
   "id": "d749db2f",
   "metadata": {},
   "outputs": [],
   "source": [
    "set.add(5)"
   ]
  },
  {
   "cell_type": "code",
   "execution_count": null,
   "id": "304ce1ff",
   "metadata": {},
   "outputs": [],
   "source": []
  }
 ],
 "metadata": {
  "kernelspec": {
   "display_name": "Python 3 (ipykernel)",
   "language": "python",
   "name": "python3"
  },
  "language_info": {
   "codemirror_mode": {
    "name": "ipython",
    "version": 3
   },
   "file_extension": ".py",
   "mimetype": "text/x-python",
   "name": "python",
   "nbconvert_exporter": "python",
   "pygments_lexer": "ipython3",
   "version": "3.10.9"
  }
 },
 "nbformat": 4,
 "nbformat_minor": 5
}
